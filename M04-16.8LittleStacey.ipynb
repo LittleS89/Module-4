{
 "cells": [
  {
   "cell_type": "code",
   "execution_count": null,
   "id": "6d2b9791-f116-4c3f-bd79-d9922cc68caf",
   "metadata": {},
   "outputs": [],
   "source": [
    "# 16.8 Use the sqlalchemy module to connect to the sqlite3 database books.db\n",
    "# that you just made in exercise 8.6.\n",
    "# As in 8.8, select and print the title column from the book table in\n",
    "# alphabetical order.\n",
    "\n",
    "\n",
    "# 8.6\n",
    "life = {\n",
    "    'animals': {\n",
    "        'cats': [\n",
    "            'Henri', 'Grumpy', 'Lucy'\n",
    "            ],\n",
    "        'octopi': {},\n",
    "        'emus': {}\n",
    "        },\n",
    "    'plants': {},\n",
    "    'other': {}\n",
    "    }\n"
   ]
  },
  {
   "cell_type": "code",
   "execution_count": null,
   "id": "7283656f-eabc-4abe-a143-4d3d785c8ec7",
   "metadata": {},
   "outputs": [],
   "source": [
    "# 16.8 Use the sqlalchemy module to connect to the sqlite3 database books.db\n",
    "# that you just made in exercise 8.6.\n",
    "# As in 8.8, select and print the title column from the book table in\n",
    "# alphabetical order.\n",
    "\n",
    "import sqlalchemy\n",
    "conn = sqlalchemy.create_engine('sqlite:///books.db')\n",
    "sql = 'select title from book order by title asc'\n",
    "rows = conn.execute(sql)\n",
    "for row in rows:\n",
    "    print(row)\n",
    "    "
   ]
  },
  {
   "cell_type": "code",
   "execution_count": null,
   "id": "bc72d6b9-9671-4167-9ccf-8fca93ec8ce1",
   "metadata": {},
   "outputs": [],
   "source": [
    "# I don't see how these two assignments are related (8.6 and 16.8) Was this a typo in the coursebook? I see that other exercises in chapter 16 are for setting up the book.csv file?"
   ]
  }
 ],
 "metadata": {
  "kernelspec": {
   "display_name": "Python 3 (ipykernel)",
   "language": "python",
   "name": "python3"
  },
  "language_info": {
   "codemirror_mode": {
    "name": "ipython",
    "version": 3
   },
   "file_extension": ".py",
   "mimetype": "text/x-python",
   "name": "python",
   "nbconvert_exporter": "python",
   "pygments_lexer": "ipython3",
   "version": "3.12.7"
  }
 },
 "nbformat": 4,
 "nbformat_minor": 5
}
