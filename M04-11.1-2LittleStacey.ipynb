{
 "cells": [
  {
   "cell_type": "code",
   "execution_count": null,
   "id": "6686a333-997d-41e1-8efe-f23e8e8b255a",
   "metadata": {},
   "outputs": [],
   "source": [
    "# this file is my saved zoo.py file\n",
    "\n",
    "# 11.1 Create a file called zoo.py.\n",
    "# In it, define a function called hours() that prints the string 'Open 9-5 daily'.\n",
    "# Then, use the interactive interpreter to import the zoo module and call its hours() function.\n",
    "\n",
    "def hours():\n",
    "    print('Open 9-5 Daily')"
   ]
  },
  {
   "cell_type": "code",
   "execution_count": null,
   "id": "a85dbcac-0a6e-4864-9cbe-3799d13fbbc5",
   "metadata": {},
   "outputs": [],
   "source": [
    "# this is my main file for 11.1 assignment that calls on zoo.py to display the hours\n",
    "\n",
    "# 11.1 Create a file called zoo.py.\n",
    "# In it, define a function called hours() that prints the string 'Open 9-5 daily'.\n",
    "# Then, use the interactive interpreter to import the zoo module and call its hours() function.\n",
    "\n",
    "import zoo\n",
    "zoo.hours()\n"
   ]
  }
 ],
 "metadata": {
  "kernelspec": {
   "display_name": "Python 3 (ipykernel)",
   "language": "python",
   "name": "python3"
  },
  "language_info": {
   "codemirror_mode": {
    "name": "ipython",
    "version": 3
   },
   "file_extension": ".py",
   "mimetype": "text/x-python",
   "name": "python",
   "nbconvert_exporter": "python",
   "pygments_lexer": "ipython3",
   "version": "3.12.7"
  }
 },
 "nbformat": 4,
 "nbformat_minor": 5
}
